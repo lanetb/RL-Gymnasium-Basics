{
 "cells": [
  {
   "cell_type": "markdown",
   "id": "af1f6c25",
   "metadata": {},
   "source": [
    "install dependencies\n",
    "    "
   ]
  },
  {
   "cell_type": "code",
   "execution_count": 1,
   "id": "df475658",
   "metadata": {},
   "outputs": [
    {
     "name": "stdout",
     "output_type": "stream",
     "text": [
      "Collecting gymnasium\n",
      "  Downloading gymnasium-0.27.1-py3-none-any.whl (883 kB)\n",
      "     -------------------------------------- 883.7/883.7 kB 5.1 MB/s eta 0:00:00\n",
      "Requirement already satisfied: typing-extensions>=4.3.0 in c:\\users\\tommy\\cs445_venv\\lib\\site-packages (from gymnasium) (4.3.0)\n",
      "Requirement already satisfied: numpy>=1.21.0 in c:\\users\\tommy\\cs445_venv\\lib\\site-packages (from gymnasium) (1.23.2)\n",
      "Collecting jax-jumpy>=0.2.0\n",
      "  Downloading jax_jumpy-1.0.0-py3-none-any.whl (20 kB)\n",
      "Collecting gymnasium-notices>=0.0.1\n",
      "  Downloading gymnasium_notices-0.0.1-py3-none-any.whl (2.8 kB)\n",
      "Requirement already satisfied: cloudpickle>=1.2.0 in c:\\users\\tommy\\cs445_venv\\lib\\site-packages (from gymnasium) (2.2.1)\n",
      "Installing collected packages: gymnasium-notices, jax-jumpy, gymnasium\n",
      "Successfully installed gymnasium-0.27.1 gymnasium-notices-0.0.1 jax-jumpy-1.0.0\n"
     ]
    },
    {
     "name": "stderr",
     "output_type": "stream",
     "text": [
      "\n",
      "[notice] A new release of pip available: 22.3.1 -> 23.0.1\n",
      "[notice] To update, run: python.exe -m pip install --upgrade pip\n"
     ]
    }
   ],
   "source": [
    "!pip install gymnasium"
   ]
  },
  {
   "cell_type": "code",
   "execution_count": null,
   "id": "373c0999",
   "metadata": {},
   "outputs": [],
   "source": [
    "import gymnasium as gym\n",
    "env = gym.make('CartPole-v1')"
   ]
  }
 ],
 "metadata": {
  "kernelspec": {
   "display_name": "Python 3 (ipykernel)",
   "language": "python",
   "name": "python3"
  },
  "language_info": {
   "codemirror_mode": {
    "name": "ipython",
    "version": 3
   },
   "file_extension": ".py",
   "mimetype": "text/x-python",
   "name": "python",
   "nbconvert_exporter": "python",
   "pygments_lexer": "ipython3",
   "version": "3.10.2"
  }
 },
 "nbformat": 4,
 "nbformat_minor": 5
}
