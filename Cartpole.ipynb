{
 "cells": [
  {
   "cell_type": "markdown",
   "id": "c3f722ad",
   "metadata": {},
   "source": [
    "install dependencies\n",
    "    "
   ]
  },
  {
   "cell_type": "code",
   "execution_count": 1,
   "id": "12ead2eb",
   "metadata": {
    "scrolled": true
   },
   "outputs": [
    {
     "name": "stdout",
     "output_type": "stream",
     "text": [
      "Requirement already satisfied: gymnasium in c:\\users\\tommy\\cs445_venv\\lib\\site-packages (0.27.1)"
     ]
    },
    {
     "name": "stderr",
     "output_type": "stream",
     "text": [
      "\n",
      "[notice] A new release of pip available: 22.3.1 -> 23.0.1\n",
      "[notice] To update, run: python.exe -m pip install --upgrade pip\n"
     ]
    },
    {
     "name": "stdout",
     "output_type": "stream",
     "text": [
      "\n",
      "Requirement already satisfied: jax-jumpy>=0.2.0 in c:\\users\\tommy\\cs445_venv\\lib\\site-packages (from gymnasium) (1.0.0)\n",
      "Requirement already satisfied: cloudpickle>=1.2.0 in c:\\users\\tommy\\cs445_venv\\lib\\site-packages (from gymnasium) (2.2.1)\n",
      "Requirement already satisfied: typing-extensions>=4.3.0 in c:\\users\\tommy\\cs445_venv\\lib\\site-packages (from gymnasium) (4.3.0)\n",
      "Requirement already satisfied: numpy>=1.21.0 in c:\\users\\tommy\\cs445_venv\\lib\\site-packages (from gymnasium) (1.23.2)\n",
      "Requirement already satisfied: gymnasium-notices>=0.0.1 in c:\\users\\tommy\\cs445_venv\\lib\\site-packages (from gymnasium) (0.0.1)\n"
     ]
    },
    {
     "name": "stderr",
     "output_type": "stream",
     "text": [
      "ERROR: Could not find a version that satisfies the requirement tensorflow==2.3.0 (from versions: 2.8.0rc1, 2.8.0, 2.8.1, 2.8.2, 2.8.3, 2.8.4, 2.9.0rc0, 2.9.0rc1, 2.9.0rc2, 2.9.0, 2.9.1, 2.9.2, 2.9.3, 2.10.0rc0, 2.10.0rc1, 2.10.0rc2, 2.10.0rc3, 2.10.0, 2.10.1, 2.11.0rc0, 2.11.0rc1, 2.11.0rc2, 2.11.0, 2.11.1, 2.12.0rc0, 2.12.0rc1, 2.12.0)\n",
      "ERROR: No matching distribution found for tensorflow==2.3.0\n",
      "\n",
      "[notice] A new release of pip available: 22.3.1 -> 23.0.1\n",
      "[notice] To update, run: python.exe -m pip install --upgrade pip\n"
     ]
    },
    {
     "name": "stdout",
     "output_type": "stream",
     "text": [
      "Requirement already satisfied: keras in c:\\users\\tommy\\cs445_venv\\lib\\site-packages (2.9.0)\n"
     ]
    },
    {
     "name": "stderr",
     "output_type": "stream",
     "text": [
      "\n",
      "[notice] A new release of pip available: 22.3.1 -> 23.0.1\n",
      "[notice] To update, run: python.exe -m pip install --upgrade pip\n"
     ]
    },
    {
     "name": "stdout",
     "output_type": "stream",
     "text": [
      "Requirement already satisfied: keras-rl2 in c:\\users\\tommy\\cs445_venv\\lib\\site-packages (1.0.5)\n",
      "Requirement already satisfied: tensorflow in c:\\users\\tommy\\cs445_venv\\lib\\site-packages (from keras-rl2) (2.9.1)\n",
      "Requirement already satisfied: termcolor>=1.1.0 in c:\\users\\tommy\\cs445_venv\\lib\\site-packages (from tensorflow->keras-rl2) (1.1.0)\n",
      "Requirement already satisfied: packaging in c:\\users\\tommy\\cs445_venv\\lib\\site-packages (from tensorflow->keras-rl2) (21.3)\n",
      "Requirement already satisfied: setuptools in c:\\users\\tommy\\cs445_venv\\lib\\site-packages (from tensorflow->keras-rl2) (58.1.0)\n",
      "Requirement already satisfied: opt-einsum>=2.3.2 in c:\\users\\tommy\\cs445_venv\\lib\\site-packages (from tensorflow->keras-rl2) (3.3.0)\n",
      "Requirement already satisfied: gast<=0.4.0,>=0.2.1 in c:\\users\\tommy\\cs445_venv\\lib\\site-packages (from tensorflow->keras-rl2) (0.4.0)\n",
      "Requirement already satisfied: numpy>=1.20 in c:\\users\\tommy\\cs445_venv\\lib\\site-packages (from tensorflow->keras-rl2) (1.23.2)\n",
      "Requirement already satisfied: tensorflow-estimator<2.10.0,>=2.9.0rc0 in c:\\users\\tommy\\cs445_venv\\lib\\site-packages (from tensorflow->keras-rl2) (2.9.0)\n",
      "Requirement already satisfied: h5py>=2.9.0 in c:\\users\\tommy\\cs445_venv\\lib\\site-packages (from tensorflow->keras-rl2) (3.7.0)\n",
      "Requirement already satisfied: keras<2.10.0,>=2.9.0rc0 in c:\\users\\tommy\\cs445_venv\\lib\\site-packages (from tensorflow->keras-rl2) (2.9.0)\n",
      "Requirement already satisfied: google-pasta>=0.1.1 in c:\\users\\tommy\\cs445_venv\\lib\\site-packages (from tensorflow->keras-rl2) (0.2.0)\n",
      "Requirement already satisfied: keras-preprocessing>=1.1.1 in c:\\users\\tommy\\cs445_venv\\lib\\site-packages (from tensorflow->keras-rl2) (1.1.2)\n",
      "Requirement already satisfied: tensorflow-io-gcs-filesystem>=0.23.1 in c:\\users\\tommy\\cs445_venv\\lib\\site-packages (from tensorflow->keras-rl2) (0.26.0)\n",
      "Requirement already satisfied: flatbuffers<2,>=1.12 in c:\\users\\tommy\\cs445_venv\\lib\\site-packages (from tensorflow->keras-rl2) (1.12)\n",
      "Requirement already satisfied: six>=1.12.0 in c:\\users\\tommy\\cs445_venv\\lib\\site-packages (from tensorflow->keras-rl2) (1.16.0)\n",
      "Requirement already satisfied: wrapt>=1.11.0 in c:\\users\\tommy\\cs445_venv\\lib\\site-packages (from tensorflow->keras-rl2) (1.14.1)\n",
      "Requirement already satisfied: astunparse>=1.6.0 in c:\\users\\tommy\\cs445_venv\\lib\\site-packages (from tensorflow->keras-rl2) (1.6.3)\n",
      "Requirement already satisfied: absl-py>=1.0.0 in c:\\users\\tommy\\cs445_venv\\lib\\site-packages (from tensorflow->keras-rl2) (1.2.0)\n",
      "Requirement already satisfied: libclang>=13.0.0 in c:\\users\\tommy\\cs445_venv\\lib\\site-packages (from tensorflow->keras-rl2) (14.0.6)\n",
      "Requirement already satisfied: typing-extensions>=3.6.6 in c:\\users\\tommy\\cs445_venv\\lib\\site-packages (from tensorflow->keras-rl2) (4.3.0)\n",
      "Requirement already satisfied: protobuf<3.20,>=3.9.2 in c:\\users\\tommy\\cs445_venv\\lib\\site-packages (from tensorflow->keras-rl2) (3.19.4)\n",
      "Requirement already satisfied: grpcio<2.0,>=1.24.3 in c:\\users\\tommy\\cs445_venv\\lib\\site-packages (from tensorflow->keras-rl2) (1.48.1)\n",
      "Requirement already satisfied: tensorboard<2.10,>=2.9 in c:\\users\\tommy\\cs445_venv\\lib\\site-packages (from tensorflow->keras-rl2) (2.9.1)\n",
      "Requirement already satisfied: wheel<1.0,>=0.23.0 in c:\\users\\tommy\\cs445_venv\\lib\\site-packages (from astunparse>=1.6.0->tensorflow->keras-rl2) (0.37.1)\n",
      "Requirement already satisfied: tensorboard-plugin-wit>=1.6.0 in c:\\users\\tommy\\cs445_venv\\lib\\site-packages (from tensorboard<2.10,>=2.9->tensorflow->keras-rl2) (1.8.1)\n",
      "Requirement already satisfied: tensorboard-data-server<0.7.0,>=0.6.0 in c:\\users\\tommy\\cs445_venv\\lib\\site-packages (from tensorboard<2.10,>=2.9->tensorflow->keras-rl2) (0.6.1)\n",
      "Requirement already satisfied: werkzeug>=1.0.1 in c:\\users\\tommy\\cs445_venv\\lib\\site-packages (from tensorboard<2.10,>=2.9->tensorflow->keras-rl2) (2.2.2)\n",
      "Requirement already satisfied: google-auth<3,>=1.6.3 in c:\\users\\tommy\\cs445_venv\\lib\\site-packages (from tensorboard<2.10,>=2.9->tensorflow->keras-rl2) (2.11.0)\n",
      "Requirement already satisfied: google-auth-oauthlib<0.5,>=0.4.1 in c:\\users\\tommy\\cs445_venv\\lib\\site-packages (from tensorboard<2.10,>=2.9->tensorflow->keras-rl2) (0.4.6)\n",
      "Requirement already satisfied: requests<3,>=2.21.0 in c:\\users\\tommy\\cs445_venv\\lib\\site-packages (from tensorboard<2.10,>=2.9->tensorflow->keras-rl2) (2.28.1)\n",
      "Requirement already satisfied: markdown>=2.6.8 in c:\\users\\tommy\\cs445_venv\\lib\\site-packages (from tensorboard<2.10,>=2.9->tensorflow->keras-rl2) (3.4.1)\n",
      "Requirement already satisfied: pyparsing!=3.0.5,>=2.0.2 in c:\\users\\tommy\\cs445_venv\\lib\\site-packages (from packaging->tensorflow->keras-rl2) (3.0.9)\n",
      "Requirement already satisfied: cachetools<6.0,>=2.0.0 in c:\\users\\tommy\\cs445_venv\\lib\\site-packages (from google-auth<3,>=1.6.3->tensorboard<2.10,>=2.9->tensorflow->keras-rl2) (5.2.0)\n",
      "Requirement already satisfied: pyasn1-modules>=0.2.1 in c:\\users\\tommy\\cs445_venv\\lib\\site-packages (from google-auth<3,>=1.6.3->tensorboard<2.10,>=2.9->tensorflow->keras-rl2) (0.2.8)\n",
      "Requirement already satisfied: rsa<5,>=3.1.4 in c:\\users\\tommy\\cs445_venv\\lib\\site-packages (from google-auth<3,>=1.6.3->tensorboard<2.10,>=2.9->tensorflow->keras-rl2) (4.9)\n",
      "Requirement already satisfied: requests-oauthlib>=0.7.0 in c:\\users\\tommy\\cs445_venv\\lib\\site-packages (from google-auth-oauthlib<0.5,>=0.4.1->tensorboard<2.10,>=2.9->tensorflow->keras-rl2) (1.3.1)\n",
      "Requirement already satisfied: urllib3<1.27,>=1.21.1 in c:\\users\\tommy\\cs445_venv\\lib\\site-packages (from requests<3,>=2.21.0->tensorboard<2.10,>=2.9->tensorflow->keras-rl2) (1.26.12)\n",
      "Requirement already satisfied: idna<4,>=2.5 in c:\\users\\tommy\\cs445_venv\\lib\\site-packages (from requests<3,>=2.21.0->tensorboard<2.10,>=2.9->tensorflow->keras-rl2) (3.3)\n",
      "Requirement already satisfied: charset-normalizer<3,>=2 in c:\\users\\tommy\\cs445_venv\\lib\\site-packages (from requests<3,>=2.21.0->tensorboard<2.10,>=2.9->tensorflow->keras-rl2) (2.1.1)\n",
      "Requirement already satisfied: certifi>=2017.4.17 in c:\\users\\tommy\\cs445_venv\\lib\\site-packages (from requests<3,>=2.21.0->tensorboard<2.10,>=2.9->tensorflow->keras-rl2) (2022.6.15)\n",
      "Requirement already satisfied: MarkupSafe>=2.1.1 in c:\\users\\tommy\\cs445_venv\\lib\\site-packages (from werkzeug>=1.0.1->tensorboard<2.10,>=2.9->tensorflow->keras-rl2) (2.1.1)\n",
      "Requirement already satisfied: pyasn1<0.5.0,>=0.4.6 in c:\\users\\tommy\\cs445_venv\\lib\\site-packages (from pyasn1-modules>=0.2.1->google-auth<3,>=1.6.3->tensorboard<2.10,>=2.9->tensorflow->keras-rl2) (0.4.8)\n",
      "Requirement already satisfied: oauthlib>=3.0.0 in c:\\users\\tommy\\cs445_venv\\lib\\site-packages (from requests-oauthlib>=0.7.0->google-auth-oauthlib<0.5,>=0.4.1->tensorboard<2.10,>=2.9->tensorflow->keras-rl2) (3.2.0)\n"
     ]
    },
    {
     "name": "stderr",
     "output_type": "stream",
     "text": [
      "\n",
      "[notice] A new release of pip available: 22.3.1 -> 23.0.1\n",
      "[notice] To update, run: python.exe -m pip install --upgrade pip\n"
     ]
    },
    {
     "name": "stdout",
     "output_type": "stream",
     "text": [
      "Requirement already satisfied: gymnasium[box2d] in c:\\users\\tommy\\cs445_venv\\lib\\site-packages (0.27.1)\n",
      "Requirement already satisfied: numpy>=1.21.0 in c:\\users\\tommy\\cs445_venv\\lib\\site-packages (from gymnasium[box2d]) (1.23.2)\n",
      "Requirement already satisfied: typing-extensions>=4.3.0 in c:\\users\\tommy\\cs445_venv\\lib\\site-packages (from gymnasium[box2d]) (4.3.0)\n",
      "Requirement already satisfied: cloudpickle>=1.2.0 in c:\\users\\tommy\\cs445_venv\\lib\\site-packages (from gymnasium[box2d]) (2.2.1)\n",
      "Requirement already satisfied: jax-jumpy>=0.2.0 in c:\\users\\tommy\\cs445_venv\\lib\\site-packages (from gymnasium[box2d]) (1.0.0)\n",
      "Requirement already satisfied: gymnasium-notices>=0.0.1 in c:\\users\\tommy\\cs445_venv\\lib\\site-packages (from gymnasium[box2d]) (0.0.1)\n",
      "Requirement already satisfied: pygame==2.1.3.dev8 in c:\\users\\tommy\\cs445_venv\\lib\\site-packages (from gymnasium[box2d]) (2.1.3.dev8)\n",
      "Requirement already satisfied: swig==4.* in c:\\users\\tommy\\cs445_venv\\lib\\site-packages (from gymnasium[box2d]) (4.1.1)\n",
      "Requirement already satisfied: box2d-py==2.3.5 in c:\\users\\tommy\\cs445_venv\\lib\\site-packages (from gymnasium[box2d]) (2.3.5)\n"
     ]
    },
    {
     "name": "stderr",
     "output_type": "stream",
     "text": [
      "\n",
      "[notice] A new release of pip available: 22.3.1 -> 23.0.1\n",
      "[notice] To update, run: python.exe -m pip install --upgrade pip\n"
     ]
    }
   ],
   "source": [
    "!pip install gymnasium\n",
    "!pip install tensorflow==2.3.0\n",
    "!pip install keras\n",
    "!pip install keras-rl2\n",
    "!pip install gymnasium[box2d]"
   ]
  },
  {
   "cell_type": "code",
   "execution_count": 2,
   "id": "38b0ea35",
   "metadata": {},
   "outputs": [],
   "source": [
    "import gymnasium as gym\n",
    "import random\n"
   ]
  },
  {
   "cell_type": "code",
   "execution_count": 3,
   "id": "28d88fa7",
   "metadata": {},
   "outputs": [],
   "source": [
    "env = gym.make('CartPole-v1')\n",
    "states = env.observation_space.shape[0]\n",
    "actions = env.action_space.n\n",
    "observation, info = env.reset()"
   ]
  },
  {
   "cell_type": "code",
   "execution_count": 4,
   "id": "6a96fdc3",
   "metadata": {},
   "outputs": [
    {
     "data": {
      "text/plain": [
       "2"
      ]
     },
     "execution_count": 4,
     "metadata": {},
     "output_type": "execute_result"
    }
   ],
   "source": [
    "actions"
   ]
  },
  {
   "cell_type": "code",
   "execution_count": 5,
   "id": "30af3b71",
   "metadata": {},
   "outputs": [],
   "source": [
    "import gymnasium as gym\n",
    "env = gym.make(\"LunarLander-v2\", render_mode=\"human\")\n",
    "observation, info = env.reset()\n",
    "\n",
    "for _ in range(1000):\n",
    "    action = env.action_space.sample()  # agent policy that uses the observation and info\n",
    "    observation, reward, terminated, truncated, info = env.step(action)\n",
    "\n",
    "    if terminated or truncated:\n",
    "        observation, info = env.reset()\n",
    "\n",
    "env.close()"
   ]
  },
  {
   "cell_type": "code",
   "execution_count": null,
   "id": "f6bc56bf",
   "metadata": {},
   "outputs": [],
   "source": [
    "import numpy as np\n",
    "import tensorflow.keras.models "
   ]
  }
 ],
 "metadata": {
  "kernelspec": {
   "display_name": "Python 3 (ipykernel)",
   "language": "python",
   "name": "python3"
  },
  "language_info": {
   "codemirror_mode": {
    "name": "ipython",
    "version": 3
   },
   "file_extension": ".py",
   "mimetype": "text/x-python",
   "name": "python",
   "nbconvert_exporter": "python",
   "pygments_lexer": "ipython3",
   "version": "3.10.2"
  }
 },
 "nbformat": 4,
 "nbformat_minor": 5
}
