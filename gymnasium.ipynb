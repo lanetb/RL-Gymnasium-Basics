{
 "cells": [
  {
   "cell_type": "code",
   "execution_count": 2,
   "id": "dd891c39",
   "metadata": {},
   "outputs": [
    {
     "name": "stdout",
     "output_type": "stream",
     "text": [
      "Requirement already satisfied: matplotlib in c:\\users\\tommy\\cs445_venv\\lib\\site-packages (3.5.3)\n",
      "Requirement already satisfied: kiwisolver>=1.0.1 in c:\\users\\tommy\\cs445_venv\\lib\\site-packages (from matplotlib) (1.4.4)\n",
      "Requirement already satisfied: packaging>=20.0 in c:\\users\\tommy\\cs445_venv\\lib\\site-packages (from matplotlib) (21.3)\n",
      "Requirement already satisfied: cycler>=0.10 in c:\\users\\tommy\\cs445_venv\\lib\\site-packages (from matplotlib) (0.11.0)\n",
      "Requirement already satisfied: python-dateutil>=2.7 in c:\\users\\tommy\\cs445_venv\\lib\\site-packages (from matplotlib) (2.8.2)\n",
      "Requirement already satisfied: fonttools>=4.22.0 in c:\\users\\tommy\\cs445_venv\\lib\\site-packages (from matplotlib) (4.37.1)\n",
      "Requirement already satisfied: numpy>=1.17 in c:\\users\\tommy\\cs445_venv\\lib\\site-packages (from matplotlib) (1.23.2)\n",
      "Requirement already satisfied: pyparsing>=2.2.1 in c:\\users\\tommy\\cs445_venv\\lib\\site-packages (from matplotlib) (3.0.9)\n",
      "Requirement already satisfied: pillow>=6.2.0 in c:\\users\\tommy\\cs445_venv\\lib\\site-packages (from matplotlib) (9.2.0)\n",
      "Requirement already satisfied: six>=1.5 in c:\\users\\tommy\\cs445_venv\\lib\\site-packages (from python-dateutil>=2.7->matplotlib) (1.16.0)\n"
     ]
    },
    {
     "name": "stderr",
     "output_type": "stream",
     "text": [
      "\n",
      "[notice] A new release of pip available: 22.3.1 -> 23.0.1\n",
      "[notice] To update, run: python.exe -m pip install --upgrade pip\n"
     ]
    },
    {
     "name": "stdout",
     "output_type": "stream",
     "text": [
      "Requirement already satisfied: numpy in c:\\users\\tommy\\cs445_venv\\lib\\site-packages (1.23.2)\n"
     ]
    },
    {
     "name": "stderr",
     "output_type": "stream",
     "text": [
      "\n",
      "[notice] A new release of pip available: 22.3.1 -> 23.0.1\n",
      "[notice] To update, run: python.exe -m pip install --upgrade pip\n"
     ]
    },
    {
     "name": "stdout",
     "output_type": "stream",
     "text": [
      "Requirement already satisfied: seaborn in c:\\users\\tommy\\cs445_venv\\lib\\site-packages (0.11.2)\n",
      "Requirement already satisfied: pandas>=0.23 in c:\\users\\tommy\\cs445_venv\\lib\\site-packages (from seaborn) (1.4.4)\n",
      "Requirement already satisfied: scipy>=1.0 in c:\\users\\tommy\\cs445_venv\\lib\\site-packages (from seaborn) (1.9.1)\n",
      "Requirement already satisfied: matplotlib>=2.2 in c:\\users\\tommy\\cs445_venv\\lib\\site-packages (from seaborn) (3.5.3)\n",
      "Requirement already satisfied: numpy>=1.15 in c:\\users\\tommy\\cs445_venv\\lib\\site-packages (from seaborn) (1.23.2)\n",
      "Requirement already satisfied: pillow>=6.2.0 in c:\\users\\tommy\\cs445_venv\\lib\\site-packages (from matplotlib>=2.2->seaborn) (9.2.0)\n",
      "Requirement already satisfied: kiwisolver>=1.0.1 in c:\\users\\tommy\\cs445_venv\\lib\\site-packages (from matplotlib>=2.2->seaborn) (1.4.4)\n",
      "Requirement already satisfied: fonttools>=4.22.0 in c:\\users\\tommy\\cs445_venv\\lib\\site-packages (from matplotlib>=2.2->seaborn) (4.37.1)\n",
      "Requirement already satisfied: packaging>=20.0 in c:\\users\\tommy\\cs445_venv\\lib\\site-packages (from matplotlib>=2.2->seaborn) (21.3)\n",
      "Requirement already satisfied: pyparsing>=2.2.1 in c:\\users\\tommy\\cs445_venv\\lib\\site-packages (from matplotlib>=2.2->seaborn) (3.0.9)\n",
      "Requirement already satisfied: cycler>=0.10 in c:\\users\\tommy\\cs445_venv\\lib\\site-packages (from matplotlib>=2.2->seaborn) (0.11.0)\n",
      "Requirement already satisfied: python-dateutil>=2.7 in c:\\users\\tommy\\cs445_venv\\lib\\site-packages (from matplotlib>=2.2->seaborn) (2.8.2)\n",
      "Requirement already satisfied: pytz>=2020.1 in c:\\users\\tommy\\cs445_venv\\lib\\site-packages (from pandas>=0.23->seaborn) (2022.2.1)\n",
      "Requirement already satisfied: six>=1.5 in c:\\users\\tommy\\cs445_venv\\lib\\site-packages (from python-dateutil>=2.7->matplotlib>=2.2->seaborn) (1.16.0)\n"
     ]
    },
    {
     "name": "stderr",
     "output_type": "stream",
     "text": [
      "\n",
      "[notice] A new release of pip available: 22.3.1 -> 23.0.1\n",
      "[notice] To update, run: python.exe -m pip install --upgrade pip\n"
     ]
    },
    {
     "name": "stdout",
     "output_type": "stream",
     "text": [
      "Requirement already satisfied: tqdm in c:\\users\\tommy\\cs445_venv\\lib\\site-packages (4.64.0)\n",
      "Requirement already satisfied: colorama in c:\\users\\tommy\\cs445_venv\\lib\\site-packages (from tqdm) (0.4.5)\n"
     ]
    },
    {
     "name": "stderr",
     "output_type": "stream",
     "text": [
      "\n",
      "[notice] A new release of pip available: 22.3.1 -> 23.0.1\n",
      "[notice] To update, run: python.exe -m pip install --upgrade pip\n"
     ]
    },
    {
     "name": "stdout",
     "output_type": "stream",
     "text": [
      "Collecting gymnasium==0.27.0\n",
      "  Downloading gymnasium-0.27.0-py3-none-any.whl (879 kB)\n",
      "     ------------------------------------- 879.1/879.1 kB 11.1 MB/s eta 0:00:00\n",
      "Requirement already satisfied: gymnasium-notices>=0.0.1 in c:\\users\\tommy\\cs445_venv\\lib\\site-packages (from gymnasium==0.27.0) (0.0.1)\n",
      "Requirement already satisfied: jax-jumpy>=0.2.0 in c:\\users\\tommy\\cs445_venv\\lib\\site-packages (from gymnasium==0.27.0) (1.0.0)\n",
      "Requirement already satisfied: numpy>=1.21.0 in c:\\users\\tommy\\cs445_venv\\lib\\site-packages (from gymnasium==0.27.0) (1.23.2)\n",
      "Requirement already satisfied: cloudpickle>=1.2.0 in c:\\users\\tommy\\cs445_venv\\lib\\site-packages (from gymnasium==0.27.0) (1.6.0)\n",
      "Collecting shimmy<1.0,>=0.1.0\n",
      "  Downloading Shimmy-0.2.1-py3-none-any.whl (25 kB)\n",
      "Requirement already satisfied: typing-extensions>=4.3.0 in c:\\users\\tommy\\cs445_venv\\lib\\site-packages (from gymnasium==0.27.0) (4.3.0)\n",
      "Installing collected packages: shimmy, gymnasium\n",
      "  Attempting uninstall: gymnasium\n",
      "    Found existing installation: gymnasium 0.27.1\n",
      "    Uninstalling gymnasium-0.27.1:\n",
      "      Successfully uninstalled gymnasium-0.27.1\n",
      "Successfully installed gymnasium-0.27.0 shimmy-0.2.1\n"
     ]
    },
    {
     "name": "stderr",
     "output_type": "stream",
     "text": [
      "\n",
      "[notice] A new release of pip available: 22.3.1 -> 23.0.1\n",
      "[notice] To update, run: python.exe -m pip install --upgrade pip\n"
     ]
    }
   ],
   "source": [
    "!pip install matplotlib\n",
    "!pip install numpy\n",
    "!pip install seaborn\n",
    "!pip install tqdm\n",
    "!pip install gymnasium==0.27.0\n",
    "%matplotlib inline"
   ]
  },
  {
   "cell_type": "code",
   "execution_count": 16,
   "id": "c36cfb87",
   "metadata": {},
   "outputs": [],
   "source": [
    "from __future__ import annotations\n",
    "\n",
    "from collections import defaultdict #allows access to undifind keys\n",
    "import matplotlib.pyplot as plt #drawing plots \n",
    "from matplotlib.patches import Patch as patch\n",
    "import numpy as np\n",
    "import seaborn as sns\n",
    "from tqdm import tqdm\n",
    "import gymnasium as gym\n"
   ]
  },
  {
   "cell_type": "code",
   "execution_count": 17,
   "id": "be1804c0",
   "metadata": {},
   "outputs": [],
   "source": [
    "env = gym.make('Blackjack-v1', sab=True, render_mode=\"rgb_array\")\n"
   ]
  },
  {
   "cell_type": "code",
   "execution_count": 18,
   "id": "023f7907",
   "metadata": {},
   "outputs": [],
   "source": [
    "#reset the envirometn to get the first observation\n",
    "done = False\n",
    "observation, info = env.reset()\n",
    "\n",
    "#observation = (16,9,False) = (MyHand, DealersHand, AceInHand?)"
   ]
  },
  {
   "cell_type": "code",
   "execution_count": 19,
   "id": "c86771ab",
   "metadata": {},
   "outputs": [],
   "source": [
    "#sample a random action from all valid actions\n",
    "action = env.action_space.sample()\n",
    "#action = 1\n",
    "\n",
    "#exicute the action in out enviroment and recieve info after taking the step\n",
    "observation, reward, terminated, truncated, info = env.step(action)\n",
    "\n",
    "#observation = (24,10,False)\n",
    "#reward = -1.0\n",
    "#terminated = True\n",
    "#truncated = False\n",
    "#info = {}"
   ]
  },
  {
   "cell_type": "code",
   "execution_count": 41,
   "id": "1754bbce",
   "metadata": {},
   "outputs": [],
   "source": [
    "class BlackJackAgent:\n",
    "    def __init__(\n",
    "        self,\n",
    "        learning_rate:float,\n",
    "        initial_epsilon:float,\n",
    "        epsilon_decay:float,\n",
    "        final_epsilon:float,\n",
    "        discount_factor:float = 0.95\n",
    "    ):\n",
    "        \"\"\"\n",
    "        Initialize a RL agent with empty dictionary of state-action value (q-values), a learning rate\n",
    "        and an epsilon\n",
    "    \n",
    "        discount_factor: the discount factorfor computing the Q-value\n",
    "        \"\"\"\n",
    "        self.q_values = defaultdict(lambda: np.zeros(env.action_space.n))\n",
    "    \n",
    "        self.lr=learning_rate\n",
    "        self.discount_factor = discount_factor\n",
    "        self.epsilon = initial_epsilon\n",
    "        self.epsilon_decay = epsilon_decay\n",
    "        self.final_epsilon = final_epsilon\n",
    "    \n",
    "        self.training_error = []\n",
    "        \n",
    "    def get_action (self,obs:tupe[int,int,bool]) -> int:\n",
    "        \"\"\"\n",
    "        Returns the best action with probability (1-epsilon) otherwise a random action with probablity epsilon\n",
    "        to ensure exploration\n",
    "        \n",
    "        \"\"\"\n",
    "        if np.random.random() < self.epsilon:\n",
    "            return env.action_space.sample()\n",
    "        else:\n",
    "            return int(np.argmax(self.q_value[obs]))\n",
    "    \n",
    "    def update (\n",
    "        self,\n",
    "        obs:tuple[int,int,bool],\n",
    "        action:int,\n",
    "        reward:float,\n",
    "        terminated:bool,\n",
    "        next_obs:tuple[int,int,bool]\n",
    "    ):\n",
    "        \"\"\"Updates the Q-value of an action\"\"\"\n",
    "        future_q_value = (not terminated) * np.max(self.q_values[next_obs])\n",
    "        temperal_difference = (\n",
    "            reward + self.discount_factor * future_q_value - self.q_values[obs][action]\n",
    "        )\n",
    "        \n",
    "        self.q_values[obs][actions] = (\n",
    "            q_values[obs][actions] + self.lr * temporal_difference\n",
    "        )\n",
    "        self.training_error.append(temporal_difference)\n",
    "        \n",
    "    def decay_epsilon(self):\n",
    "        self.epsilon = max(self.final_epsilon,self,epsilon-epsilon_decay)"
   ]
  },
  {
   "cell_type": "code",
   "execution_count": 42,
   "id": "c9ed42d4",
   "metadata": {},
   "outputs": [],
   "source": [
    "#hyperparameters\n",
    "learning_rate=0.01\n",
    "n_episodes=100_000\n",
    "start_epsilon=1.0\n",
    "epsilon_decay= start_epsilon / (n_episodes/2)\n",
    "final_epsilon = 0.1\n",
    "\n",
    "agent = BlackJackAgent(\n",
    "    learning_rate = learning_rate,\n",
    "    initial_epsilon = start_epsilon,\n",
    "    epsilon_decay = epsilon_decay,\n",
    "    final_epsilon = final_epsilon\n",
    ")"
   ]
  },
  {
   "cell_type": "code",
   "execution_count": 44,
   "id": "01c7012f",
   "metadata": {},
   "outputs": [
    {
     "name": "stderr",
     "output_type": "stream",
     "text": [
      "  0%|                                                                                       | 0/100000 [00:00<?, ?it/s]\n"
     ]
    },
    {
     "ename": "ValueError",
     "evalue": "Attempted to add episode stats when they already exist",
     "output_type": "error",
     "traceback": [
      "\u001b[1;31m---------------------------------------------------------------------------\u001b[0m",
      "\u001b[1;31mValueError\u001b[0m                                Traceback (most recent call last)",
      "Input \u001b[1;32mIn [44]\u001b[0m, in \u001b[0;36m<cell line: 3>\u001b[1;34m()\u001b[0m\n\u001b[0;32m      9\u001b[0m \u001b[38;5;28;01mwhile\u001b[39;00m \u001b[38;5;129;01mnot\u001b[39;00m done:\n\u001b[0;32m     10\u001b[0m     action \u001b[38;5;241m=\u001b[39m agent\u001b[38;5;241m.\u001b[39mget_action(obs)\n\u001b[1;32m---> 11\u001b[0m     next_obs, reward, terminated, truncated, info \u001b[38;5;241m=\u001b[39m \u001b[43menv\u001b[49m\u001b[38;5;241;43m.\u001b[39;49m\u001b[43mstep\u001b[49m\u001b[43m(\u001b[49m\u001b[43maction\u001b[49m\u001b[43m)\u001b[49m\n\u001b[0;32m     13\u001b[0m     agent\u001b[38;5;241m.\u001b[39mupdate(obs, action, reward, terminated, next_obs)\n\u001b[0;32m     14\u001b[0m     frame\u001b[38;5;241m=\u001b[39menv\u001b[38;5;241m.\u001b[39mrender()\n",
      "File \u001b[1;32mc:\\Users\\tommy\\cs445_venv\\lib\\site-packages\\gymnasium\\wrappers\\record_episode_statistics.py:85\u001b[0m, in \u001b[0;36mRecordEpisodeStatistics.step\u001b[1;34m(self, action)\u001b[0m\n\u001b[0;32m     77\u001b[0m \u001b[38;5;28;01mdef\u001b[39;00m \u001b[38;5;21mstep\u001b[39m(\u001b[38;5;28mself\u001b[39m, action):\n\u001b[0;32m     78\u001b[0m     \u001b[38;5;124;03m\"\"\"Steps through the environment, recording the episode statistics.\"\"\"\u001b[39;00m\n\u001b[0;32m     79\u001b[0m     (\n\u001b[0;32m     80\u001b[0m         observations,\n\u001b[0;32m     81\u001b[0m         rewards,\n\u001b[0;32m     82\u001b[0m         terminations,\n\u001b[0;32m     83\u001b[0m         truncations,\n\u001b[0;32m     84\u001b[0m         infos,\n\u001b[1;32m---> 85\u001b[0m     ) \u001b[38;5;241m=\u001b[39m \u001b[38;5;28;43mself\u001b[39;49m\u001b[38;5;241;43m.\u001b[39;49m\u001b[43menv\u001b[49m\u001b[38;5;241;43m.\u001b[39;49m\u001b[43mstep\u001b[49m\u001b[43m(\u001b[49m\u001b[43maction\u001b[49m\u001b[43m)\u001b[49m\n\u001b[0;32m     86\u001b[0m     \u001b[38;5;28;01massert\u001b[39;00m \u001b[38;5;28misinstance\u001b[39m(\n\u001b[0;32m     87\u001b[0m         infos, \u001b[38;5;28mdict\u001b[39m\n\u001b[0;32m     88\u001b[0m     ), \u001b[38;5;124mf\u001b[39m\u001b[38;5;124m\"\u001b[39m\u001b[38;5;124m`info` dtype is \u001b[39m\u001b[38;5;132;01m{\u001b[39;00m\u001b[38;5;28mtype\u001b[39m(infos)\u001b[38;5;132;01m}\u001b[39;00m\u001b[38;5;124m while supported dtype is `dict`. This may be due to usage of other wrappers in the wrong order.\u001b[39m\u001b[38;5;124m\"\u001b[39m\n\u001b[0;32m     89\u001b[0m     \u001b[38;5;28mself\u001b[39m\u001b[38;5;241m.\u001b[39mepisode_returns \u001b[38;5;241m+\u001b[39m\u001b[38;5;241m=\u001b[39m rewards\n",
      "File \u001b[1;32mc:\\Users\\tommy\\cs445_venv\\lib\\site-packages\\gymnasium\\wrappers\\record_episode_statistics.py:85\u001b[0m, in \u001b[0;36mRecordEpisodeStatistics.step\u001b[1;34m(self, action)\u001b[0m\n\u001b[0;32m     77\u001b[0m \u001b[38;5;28;01mdef\u001b[39;00m \u001b[38;5;21mstep\u001b[39m(\u001b[38;5;28mself\u001b[39m, action):\n\u001b[0;32m     78\u001b[0m     \u001b[38;5;124;03m\"\"\"Steps through the environment, recording the episode statistics.\"\"\"\u001b[39;00m\n\u001b[0;32m     79\u001b[0m     (\n\u001b[0;32m     80\u001b[0m         observations,\n\u001b[0;32m     81\u001b[0m         rewards,\n\u001b[0;32m     82\u001b[0m         terminations,\n\u001b[0;32m     83\u001b[0m         truncations,\n\u001b[0;32m     84\u001b[0m         infos,\n\u001b[1;32m---> 85\u001b[0m     ) \u001b[38;5;241m=\u001b[39m \u001b[38;5;28;43mself\u001b[39;49m\u001b[38;5;241;43m.\u001b[39;49m\u001b[43menv\u001b[49m\u001b[38;5;241;43m.\u001b[39;49m\u001b[43mstep\u001b[49m\u001b[43m(\u001b[49m\u001b[43maction\u001b[49m\u001b[43m)\u001b[49m\n\u001b[0;32m     86\u001b[0m     \u001b[38;5;28;01massert\u001b[39;00m \u001b[38;5;28misinstance\u001b[39m(\n\u001b[0;32m     87\u001b[0m         infos, \u001b[38;5;28mdict\u001b[39m\n\u001b[0;32m     88\u001b[0m     ), \u001b[38;5;124mf\u001b[39m\u001b[38;5;124m\"\u001b[39m\u001b[38;5;124m`info` dtype is \u001b[39m\u001b[38;5;132;01m{\u001b[39;00m\u001b[38;5;28mtype\u001b[39m(infos)\u001b[38;5;132;01m}\u001b[39;00m\u001b[38;5;124m while supported dtype is `dict`. This may be due to usage of other wrappers in the wrong order.\u001b[39m\u001b[38;5;124m\"\u001b[39m\n\u001b[0;32m     89\u001b[0m     \u001b[38;5;28mself\u001b[39m\u001b[38;5;241m.\u001b[39mepisode_returns \u001b[38;5;241m+\u001b[39m\u001b[38;5;241m=\u001b[39m rewards\n",
      "    \u001b[1;31m[... skipping similar frames: RecordEpisodeStatistics.step at line 85 (2 times)]\u001b[0m\n",
      "File \u001b[1;32mc:\\Users\\tommy\\cs445_venv\\lib\\site-packages\\gymnasium\\wrappers\\record_episode_statistics.py:85\u001b[0m, in \u001b[0;36mRecordEpisodeStatistics.step\u001b[1;34m(self, action)\u001b[0m\n\u001b[0;32m     77\u001b[0m \u001b[38;5;28;01mdef\u001b[39;00m \u001b[38;5;21mstep\u001b[39m(\u001b[38;5;28mself\u001b[39m, action):\n\u001b[0;32m     78\u001b[0m     \u001b[38;5;124;03m\"\"\"Steps through the environment, recording the episode statistics.\"\"\"\u001b[39;00m\n\u001b[0;32m     79\u001b[0m     (\n\u001b[0;32m     80\u001b[0m         observations,\n\u001b[0;32m     81\u001b[0m         rewards,\n\u001b[0;32m     82\u001b[0m         terminations,\n\u001b[0;32m     83\u001b[0m         truncations,\n\u001b[0;32m     84\u001b[0m         infos,\n\u001b[1;32m---> 85\u001b[0m     ) \u001b[38;5;241m=\u001b[39m \u001b[38;5;28;43mself\u001b[39;49m\u001b[38;5;241;43m.\u001b[39;49m\u001b[43menv\u001b[49m\u001b[38;5;241;43m.\u001b[39;49m\u001b[43mstep\u001b[49m\u001b[43m(\u001b[49m\u001b[43maction\u001b[49m\u001b[43m)\u001b[49m\n\u001b[0;32m     86\u001b[0m     \u001b[38;5;28;01massert\u001b[39;00m \u001b[38;5;28misinstance\u001b[39m(\n\u001b[0;32m     87\u001b[0m         infos, \u001b[38;5;28mdict\u001b[39m\n\u001b[0;32m     88\u001b[0m     ), \u001b[38;5;124mf\u001b[39m\u001b[38;5;124m\"\u001b[39m\u001b[38;5;124m`info` dtype is \u001b[39m\u001b[38;5;132;01m{\u001b[39;00m\u001b[38;5;28mtype\u001b[39m(infos)\u001b[38;5;132;01m}\u001b[39;00m\u001b[38;5;124m while supported dtype is `dict`. This may be due to usage of other wrappers in the wrong order.\u001b[39m\u001b[38;5;124m\"\u001b[39m\n\u001b[0;32m     89\u001b[0m     \u001b[38;5;28mself\u001b[39m\u001b[38;5;241m.\u001b[39mepisode_returns \u001b[38;5;241m+\u001b[39m\u001b[38;5;241m=\u001b[39m rewards\n",
      "File \u001b[1;32mc:\\Users\\tommy\\cs445_venv\\lib\\site-packages\\gymnasium\\wrappers\\record_episode_statistics.py:95\u001b[0m, in \u001b[0;36mRecordEpisodeStatistics.step\u001b[1;34m(self, action)\u001b[0m\n\u001b[0;32m     93\u001b[0m \u001b[38;5;28;01mif\u001b[39;00m num_dones:\n\u001b[0;32m     94\u001b[0m     \u001b[38;5;28;01mif\u001b[39;00m \u001b[38;5;124m\"\u001b[39m\u001b[38;5;124mepisode\u001b[39m\u001b[38;5;124m\"\u001b[39m \u001b[38;5;129;01min\u001b[39;00m infos \u001b[38;5;129;01mor\u001b[39;00m \u001b[38;5;124m\"\u001b[39m\u001b[38;5;124m_episode\u001b[39m\u001b[38;5;124m\"\u001b[39m \u001b[38;5;129;01min\u001b[39;00m infos:\n\u001b[1;32m---> 95\u001b[0m         \u001b[38;5;28;01mraise\u001b[39;00m \u001b[38;5;167;01mValueError\u001b[39;00m(\n\u001b[0;32m     96\u001b[0m             \u001b[38;5;124m\"\u001b[39m\u001b[38;5;124mAttempted to add episode stats when they already exist\u001b[39m\u001b[38;5;124m\"\u001b[39m\n\u001b[0;32m     97\u001b[0m         )\n\u001b[0;32m     98\u001b[0m     \u001b[38;5;28;01melse\u001b[39;00m:\n\u001b[0;32m     99\u001b[0m         infos[\u001b[38;5;124m\"\u001b[39m\u001b[38;5;124mepisode\u001b[39m\u001b[38;5;124m\"\u001b[39m] \u001b[38;5;241m=\u001b[39m {\n\u001b[0;32m    100\u001b[0m             \u001b[38;5;124m\"\u001b[39m\u001b[38;5;124mr\u001b[39m\u001b[38;5;124m\"\u001b[39m: np\u001b[38;5;241m.\u001b[39mwhere(dones, \u001b[38;5;28mself\u001b[39m\u001b[38;5;241m.\u001b[39mepisode_returns, \u001b[38;5;241m0.0\u001b[39m),\n\u001b[0;32m    101\u001b[0m             \u001b[38;5;124m\"\u001b[39m\u001b[38;5;124ml\u001b[39m\u001b[38;5;124m\"\u001b[39m: np\u001b[38;5;241m.\u001b[39mwhere(dones, \u001b[38;5;28mself\u001b[39m\u001b[38;5;241m.\u001b[39mepisode_lengths, \u001b[38;5;241m0\u001b[39m),\n\u001b[1;32m   (...)\u001b[0m\n\u001b[0;32m    106\u001b[0m             ),\n\u001b[0;32m    107\u001b[0m         }\n",
      "\u001b[1;31mValueError\u001b[0m: Attempted to add episode stats when they already exist"
     ]
    }
   ],
   "source": [
    "from IPython.display import clear_output\n",
    "env = gym.wrappers.RecordEpisodeStatistics(env,deque_size=n_episodes)\n",
    "for episode in tqdm(range(n_episodes)):\n",
    "    obs,info = env.reset()\n",
    "    done = False\n",
    "    clear_output()\n",
    "    \n",
    "    #play one episode\n",
    "    while not done:\n",
    "        action = agent.get_action(obs)\n",
    "        next_obs, reward, terminated, truncated, info = env.step(action)\n",
    "        \n",
    "        agent.update(obs, action, reward, terminated, next_obs)\n",
    "        frame=env.render()\n",
    "        plt.imshow(frame)\n",
    "        plt.show()\n",
    "        \n",
    "        done = terminated or truncated\n",
    "        obs = next_obs\n",
    "        \n",
    "    agent.decat_epsilon()\n",
    "    \n",
    "    \n",
    "    "
   ]
  },
  {
   "cell_type": "code",
   "execution_count": null,
   "id": "7d56a1af",
   "metadata": {},
   "outputs": [],
   "source": []
  }
 ],
 "metadata": {
  "kernelspec": {
   "display_name": "Python 3 (ipykernel)",
   "language": "python",
   "name": "python3"
  },
  "language_info": {
   "codemirror_mode": {
    "name": "ipython",
    "version": 3
   },
   "file_extension": ".py",
   "mimetype": "text/x-python",
   "name": "python",
   "nbconvert_exporter": "python",
   "pygments_lexer": "ipython3",
   "version": "3.10.2"
  }
 },
 "nbformat": 4,
 "nbformat_minor": 5
}
